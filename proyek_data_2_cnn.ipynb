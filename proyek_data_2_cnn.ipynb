{
  "nbformat": 4,
  "nbformat_minor": 0,
  "metadata": {
    "colab": {
      "name": "proyek data 2.ipynb",
      "provenance": [],
      "collapsed_sections": []
    },
    "kernelspec": {
      "name": "python3",
      "display_name": "Python 3"
    },
    "language_info": {
      "name": "python"
    },
    "accelerator": "GPU"
  },
  "cells": [
    {
      "cell_type": "code",
      "source": [
        "!pip install kaggle"
      ],
      "metadata": {
        "id": "d1iMhtVwX5KX"
      },
      "execution_count": null,
      "outputs": []
    },
    {
      "cell_type": "code",
      "source": [
        "!mkdir ~/.kaggle\n",
        "cp kaggle.json ~/.kaggle/\n",
        "! chmod 600 ~/.kaggle/kaggle.json"
      ],
      "metadata": {
        "id": "colI_jpyZ8CL"
      },
      "execution_count": null,
      "outputs": []
    },
    {
      "cell_type": "code",
      "source": [
        "cp kaggle.json ~/.kaggle/\n"
      ],
      "metadata": {
        "id": "Sl3KSYr0aB64"
      },
      "execution_count": null,
      "outputs": []
    },
    {
      "cell_type": "code",
      "source": [
        "! chmod 600 ~/.kaggle/kaggle.json"
      ],
      "metadata": {
        "id": "Qxp68hBPaFX3"
      },
      "execution_count": null,
      "outputs": []
    },
    {
      "cell_type": "code",
      "source": [
        "!kaggle datasets download kwentar/blur-dataset"
      ],
      "metadata": {
        "colab": {
          "base_uri": "https://localhost:8080/"
        },
        "id": "ZpDn38g3aHlw",
        "outputId": "f0cd599e-f187-4d45-8dc5-d5796649c1cd"
      },
      "execution_count": null,
      "outputs": [
        {
          "output_type": "stream",
          "name": "stdout",
          "text": [
            "blur-dataset.zip: Skipping, found more recently modified local copy (use --force to force download)\n"
          ]
        }
      ]
    },
    {
      "cell_type": "code",
      "source": [
        "!sudo apt install unzip"
      ],
      "metadata": {
        "colab": {
          "base_uri": "https://localhost:8080/"
        },
        "id": "LJXM7yP1aYz8",
        "outputId": "6f177e82-28d5-464a-d7c1-90ef2fab64ba"
      },
      "execution_count": null,
      "outputs": [
        {
          "output_type": "stream",
          "name": "stdout",
          "text": [
            "Reading package lists... Done\n",
            "Building dependency tree       \n",
            "Reading state information... Done\n",
            "unzip is already the newest version (6.0-21ubuntu1.1).\n",
            "0 upgraded, 0 newly installed, 0 to remove and 39 not upgraded.\n"
          ]
        }
      ]
    },
    {
      "cell_type": "code",
      "source": [
        "!unzip blur-dataset.zip"
      ],
      "metadata": {
        "id": "YVmIg01gaqWg"
      },
      "execution_count": null,
      "outputs": []
    },
    {
      "cell_type": "markdown",
      "source": [
        "**Augmentasi**"
      ],
      "metadata": {
        "id": "O3hV_UUEbT-1"
      }
    },
    {
      "cell_type": "code",
      "source": [
        "import cv2\n",
        "import numpy as np\n",
        "from tqdm import tqdm\n",
        "import os"
      ],
      "metadata": {
        "id": "-_Gcm4vSavD0"
      },
      "execution_count": null,
      "outputs": []
    },
    {
      "cell_type": "code",
      "source": [
        "np.__file__"
      ],
      "metadata": {
        "colab": {
          "base_uri": "https://localhost:8080/",
          "height": 35
        },
        "id": "O35L-HCzcTG-",
        "outputId": "2d28e0a9-0e07-4e34-c02c-bd503b2fc231"
      },
      "execution_count": null,
      "outputs": [
        {
          "output_type": "execute_result",
          "data": {
            "text/plain": [
              "'/usr/local/lib/python3.7/dist-packages/numpy/__init__.py'"
            ],
            "application/vnd.google.colaboratory.intrinsic+json": {
              "type": "string"
            }
          },
          "metadata": {},
          "execution_count": 20
        }
      ]
    },
    {
      "cell_type": "code",
      "source": [
        "os.makedirs('data/gaussian_blurred')\n",
        "src_directory = 'data/sharp'\n",
        "images = os.listdir(src_directory)\n",
        "dst_dir = \"data/gaussian_blurred\""
      ],
      "metadata": {
        "id": "fjHel9qMbkl1"
      },
      "execution_count": null,
      "outputs": []
    },
    {
      "cell_type": "code",
      "source": [
        "for i, image in (tqdm(enumerate(images), total=len(images))):\n",
        "    img = cv2.imread(f\"{src_directory}/{images[i]}\")\n",
        "    blur =cv2.GaussianBlur(img, (31, 31), 0)\n",
        "    cv2.imwrite(f\"{dst_dir}/{images[i]}\", blur)"
      ],
      "metadata": {
        "colab": {
          "base_uri": "https://localhost:8080/"
        },
        "id": "ASvyQQELb2Ou",
        "outputId": "f4f7f305-0e1d-4e86-9c93-eac755b50e12"
      },
      "execution_count": null,
      "outputs": [
        {
          "output_type": "stream",
          "name": "stderr",
          "text": [
            "100%|██████████| 350/350 [01:23<00:00,  4.17it/s]\n"
          ]
        }
      ]
    },
    {
      "cell_type": "code",
      "source": [
        "import numpy as np\n",
        "import os\n",
        "import matplotlib.pyplot as plt\n",
        "import glob\n",
        "import cv2\n",
        "import torch\n",
        "import torchvision\n",
        "import torch.nn as nn\n",
        "import torch.nn.functional as F\n",
        "import torch.optim as optim\n",
        "import time\n",
        "import argparse\n",
        "from tqdm import tqdm\n",
        "from torch.utils.data import Dataset, DataLoader\n",
        "from torchvision.transforms import transforms\n",
        "from torchvision.utils import save_image\n",
        "from sklearn.model_selection import train_test_split"
      ],
      "metadata": {
        "id": "FJtowaVHcpYp"
      },
      "execution_count": null,
      "outputs": []
    },
    {
      "cell_type": "code",
      "source": [
        "parser = argparse.ArgumentParser()\n",
        "# parser.add_argument('-f')\n",
        "parser.add_argument('-e')\n",
        "args = vars(parser.parse_args())\n"
      ],
      "metadata": {
        "colab": {
          "base_uri": "https://localhost:8080/",
          "height": 184
        },
        "id": "0TVbxHiddNpT",
        "outputId": "31f17efa-4e78-42c8-f270-7fd9ab53a674"
      },
      "execution_count": null,
      "outputs": [
        {
          "output_type": "stream",
          "name": "stderr",
          "text": [
            "usage: ipykernel_launcher.py [-h] [-e E] [--epochs EPOCHS]\n",
            "ipykernel_launcher.py: error: unrecognized arguments: -f /root/.local/share/jupyter/runtime/kernel-b0c00a38-95f9-49db-a2fb-eac55631f2e2.json\n"
          ]
        },
        {
          "output_type": "error",
          "ename": "SystemExit",
          "evalue": "ignored",
          "traceback": [
            "An exception has occurred, use %tb to see the full traceback.\n",
            "\u001b[0;31mSystemExit\u001b[0m\u001b[0;31m:\u001b[0m 2\n"
          ]
        },
        {
          "output_type": "stream",
          "name": "stderr",
          "text": [
            "/usr/local/lib/python3.7/dist-packages/IPython/core/interactiveshell.py:2890: UserWarning: To exit: use 'exit', 'quit', or Ctrl-D.\n",
            "  warn(\"To exit: use 'exit', 'quit', or Ctrl-D.\", stacklevel=1)\n"
          ]
        }
      ]
    },
    {
      "cell_type": "code",
      "source": [
        "def save_decoded_image(img, name):\n",
        "    img = img.view(img.size(0), 3, 224, 224)\n",
        "    save_image(img, name)"
      ],
      "metadata": {
        "id": "zAwGw-B_loXV"
      },
      "execution_count": null,
      "outputs": []
    },
    {
      "cell_type": "code",
      "source": [
        "image_dir = 'outputs/saved_images'\n",
        "os.makedirs(image_dir, exist_ok=True)\n",
        "device = 'cuda:0' if torch.cuda.is_available() else 'cpu'\n",
        "print(device)\n",
        "batch_size = 2"
      ],
      "metadata": {
        "colab": {
          "base_uri": "https://localhost:8080/"
        },
        "id": "8kvBIE0WdZ0N",
        "outputId": "bb00e0ab-ab63-4160-e51a-697426858f20"
      },
      "execution_count": null,
      "outputs": [
        {
          "output_type": "stream",
          "name": "stdout",
          "text": [
            "cuda:0\n"
          ]
        }
      ]
    },
    {
      "cell_type": "code",
      "source": [
        "g_blur = os.listdir('data/gaussian_blurred')\n",
        "sharp = os.listdir('data/sharp')\n",
        "x_blur = sorted(g_blur)\n",
        "y_sharp = sorted(sharp)"
      ],
      "metadata": {
        "id": "3KsTFD2_diKp"
      },
      "execution_count": null,
      "outputs": []
    },
    {
      "cell_type": "code",
      "source": [
        "(x_train, x_val, y_train, y_val) = train_test_split(x_blur, y_sharp, test_size=0.25)"
      ],
      "metadata": {
        "id": "pyiy1rMgeeiw"
      },
      "execution_count": null,
      "outputs": []
    },
    {
      "cell_type": "code",
      "source": [
        "transform = transforms.Compose([\n",
        "    transforms.ToPILImage(), \n",
        "    transforms.Resize((224, 244)), \n",
        "    transforms.ToTensor(),\n",
        "])"
      ],
      "metadata": {
        "id": "14iLb47medvo"
      },
      "execution_count": null,
      "outputs": []
    },
    {
      "cell_type": "code",
      "source": [
        "class DeblurDataset(Dataset):\n",
        "    def __init__ (self, blur_path, sharp_path=None, transforms=None):\n",
        "        self.x = blur_path\n",
        "        self.y = sharp_path\n",
        "        self.transforms = transforms\n",
        "    def __len__(self):\n",
        "        return (len(self.x))\n",
        "    def __getitem__(self, i):\n",
        "        blur_image = cv2.imread(f\"data/gaussian_blurred/{self.x[i]}\")\n",
        "        if self.transforms:\n",
        "            blur_image = self.transforms(blur_image)\n",
        "        if self.y is not None:\n",
        "            sharp_image = cv2.imread(f\"data/sharp/{self.y[i]}\")\n",
        "            sharp_image = self.transforms(sharp_image)\n",
        "            return(blur_image, sharp_image)\n",
        "        else:\n",
        "            return blur_image"
      ],
      "metadata": {
        "id": "8NzHhVB5fEaF"
      },
      "execution_count": null,
      "outputs": []
    },
    {
      "cell_type": "code",
      "source": [
        "train = DeblurDataset(x_train, y_train, transform)\n",
        "val = DeblurDataset(x_train, y_train, transform)\n",
        "\n",
        "train_loader = DataLoader(train, batch_size=batch_size, shuffle=True)\n",
        "val_loader = DataLoader(val, batch_size=batch_size, shuffle=False)"
      ],
      "metadata": {
        "id": "GtYPjUq-gvQS"
      },
      "execution_count": null,
      "outputs": []
    },
    {
      "cell_type": "code",
      "source": [
        "class SRCNN(nn.Module):\n",
        "    def __init__(self):\n",
        "        super(SRCNN, self).__init__()\n",
        "\n",
        "        self.conv1 = nn.Conv2d(3, 64, kernel_size=9, padding=2)\n",
        "        self.conv2 = nn.Conv2d(64, 32, kernel_size=1, padding=2)\n",
        "        self.conv3 = nn.Conv2d(32, 3, kernel_size=5, padding=2)\n",
        "    def forward(self, x):\n",
        "        x = F.relu(self.conv1(x))\n",
        "        x = F.relu(self.conv2(x))\n",
        "        x = self.conv3(x)\n",
        "        return x"
      ],
      "metadata": {
        "id": "olNjyI7bg-MX"
      },
      "execution_count": null,
      "outputs": []
    },
    {
      "cell_type": "code",
      "source": [
        "model = SRCNN().to(device)\n",
        "print(model)"
      ],
      "metadata": {
        "colab": {
          "base_uri": "https://localhost:8080/"
        },
        "id": "9qCuofdWh3Rx",
        "outputId": "a2ee6aac-dd1c-4d47-d701-345aad819d7c"
      },
      "execution_count": null,
      "outputs": [
        {
          "output_type": "stream",
          "name": "stdout",
          "text": [
            "Model(\n",
            "  (conv1): Conv2d(3, 64, kernel_size=(9, 9), stride=(1, 1), padding=(2, 2))\n",
            "  (conv2): Conv2d(64, 32, kernel_size=(1, 1), stride=(1, 1), padding=(2, 2))\n",
            "  (conv3): Conv2d(32, 3, kernel_size=(5, 5), stride=(1, 1), padding=(2, 2))\n",
            ")\n"
          ]
        }
      ]
    },
    {
      "cell_type": "code",
      "source": [
        "criterion = nn.MSELoss()\n",
        "optimizer = optim.Adam(model.parameters(), lr=0.001)\n",
        "scheduler = torch.optim.lr_scheduler.ReduceLROnPlateau( \n",
        "        optimizer,\n",
        "        mode='min',\n",
        "        patience=5,\n",
        "        factor=0.5,\n",
        "        verbose=True\n",
        "    )"
      ],
      "metadata": {
        "id": "ICknXcNFh59u"
      },
      "execution_count": null,
      "outputs": []
    },
    {
      "cell_type": "code",
      "source": [
        "def fit(model, dataloader, epoch):\n",
        "    model.train()\n",
        "    r_loss = 0\n",
        "    loss_list = []\n",
        "    for i, data in tqdm(enumerate(dataloader), total=int(len(train)/dataloader.batch_size)):\n",
        "        blur_img = data[0].to(device)\n",
        "        sharp_img = data[1].to(device)\n",
        "        optimizer.zero_grad()\n",
        "        outputs = model(blur_img)\n",
        "        loss = criterion(outputs, sharp_img)\n",
        "        loss.backward()\n",
        "        optimizer.step()\n",
        "        r_loss += loss.item()\n",
        "        loss_list.append(loss.item())\n",
        "    train_loss = r_loss / len(dataloader.dataset)\n",
        "    print(f\"Training Loss: {train_loss:.5f}\")\n",
        "    return train_loss"
      ],
      "metadata": {
        "id": "IOXIkqdHiG8J"
      },
      "execution_count": null,
      "outputs": []
    },
    {
      "cell_type": "code",
      "source": [
        "def validate(model, dataloader, epoch):\n",
        "    model.eval()\n",
        "    running_loss = 0.0\n",
        "    with torch.no_grad():\n",
        "        for i, data in tqdm(enumerate(dataloader), total=int(len(val)/dataloader.batch_size)):\n",
        "            blur_image = data[0]\n",
        "            sharp_image = data[1]\n",
        "            blur_image = blur_image.to(device)\n",
        "            sharp_image = sharp_image.to(device)\n",
        "            outputs = model(blur_image)\n",
        "            loss = criterion(outputs, sharp_image)\n",
        "            running_loss += loss.item()\n",
        "            # if epoch == 0 and i == int((len(val)/dataloader.batch_size)-1):\n",
        "            #     save_decoded_image(sharp_image.cpu().data, name=f\"../outputs/saved_images/sharp{epoch}.jpg\")\n",
        "            #     save_decoded_image(blur_image.cpu().data, name=f\"../outputs/saved_images/blur{epoch}.jpg\")\n",
        "            # if i == int((len(val)/dataloader.batch_size)-1):\n",
        "            #     save_decoded_image(outputs.cpu().data, name=f\"../outputs/saved_images/val_deblurred{epoch}.jpg\")\n",
        "        val_loss = running_loss/len(dataloader.dataset)\n",
        "        print(f\"Val Loss: {val_loss:.5f}\")\n",
        "        \n",
        "        return val_loss"
      ],
      "metadata": {
        "id": "QLs-AuZHjEIK"
      },
      "execution_count": null,
      "outputs": []
    },
    {
      "cell_type": "code",
      "source": [
        "train_loss  = []\n",
        "val_loss = []\n",
        "n_epoch = 10\n",
        "start = time.time()\n",
        "for epoch in range(n_epoch):\n",
        "    print(f\"Epoch {epoch+1} of {n_epoch}\")\n",
        "    train_epoch_loss = fit(model, train_loader, epoch)\n",
        "    val_epoch_loss = validate(model, val_loader, epoch)\n",
        "    train_loss.append(train_epoch_loss)\n",
        "    val_loss.append(val_epoch_loss)\n",
        "    scheduler.step(val_epoch_loss)\n",
        "end = time.time()\n",
        "print(f\"Took {((end-start)/60):.3f} minutes to train\")"
      ],
      "metadata": {
        "colab": {
          "base_uri": "https://localhost:8080/"
        },
        "id": "CgdFxK4FjRx6",
        "outputId": "3a9403d7-00ef-47e6-dcdf-be82d61a824c"
      },
      "execution_count": null,
      "outputs": [
        {
          "output_type": "stream",
          "name": "stdout",
          "text": [
            "Epoch 1 of 10\n"
          ]
        },
        {
          "output_type": "stream",
          "name": "stderr",
          "text": [
            "100%|██████████| 131/131 [00:41<00:00,  3.14it/s]\n"
          ]
        },
        {
          "output_type": "stream",
          "name": "stdout",
          "text": [
            "Training Loss: 0.00111\n"
          ]
        },
        {
          "output_type": "stream",
          "name": "stderr",
          "text": [
            "100%|██████████| 131/131 [00:37<00:00,  3.53it/s]\n"
          ]
        },
        {
          "output_type": "stream",
          "name": "stdout",
          "text": [
            "Val Loss: 0.00077\n",
            "Epoch 2 of 10\n"
          ]
        },
        {
          "output_type": "stream",
          "name": "stderr",
          "text": [
            "100%|██████████| 131/131 [00:39<00:00,  3.30it/s]\n"
          ]
        },
        {
          "output_type": "stream",
          "name": "stdout",
          "text": [
            "Training Loss: 0.00072\n"
          ]
        },
        {
          "output_type": "stream",
          "name": "stderr",
          "text": [
            "100%|██████████| 131/131 [00:35<00:00,  3.70it/s]\n"
          ]
        },
        {
          "output_type": "stream",
          "name": "stdout",
          "text": [
            "Val Loss: 0.00065\n",
            "Epoch 3 of 10\n"
          ]
        },
        {
          "output_type": "stream",
          "name": "stderr",
          "text": [
            "100%|██████████| 131/131 [00:39<00:00,  3.33it/s]\n"
          ]
        },
        {
          "output_type": "stream",
          "name": "stdout",
          "text": [
            "Training Loss: 0.00066\n"
          ]
        },
        {
          "output_type": "stream",
          "name": "stderr",
          "text": [
            "100%|██████████| 131/131 [00:35<00:00,  3.72it/s]\n"
          ]
        },
        {
          "output_type": "stream",
          "name": "stdout",
          "text": [
            "Val Loss: 0.00222\n",
            "Epoch 4 of 10\n"
          ]
        },
        {
          "output_type": "stream",
          "name": "stderr",
          "text": [
            "100%|██████████| 131/131 [00:39<00:00,  3.34it/s]\n"
          ]
        },
        {
          "output_type": "stream",
          "name": "stdout",
          "text": [
            "Training Loss: 0.00088\n"
          ]
        },
        {
          "output_type": "stream",
          "name": "stderr",
          "text": [
            "100%|██████████| 131/131 [00:36<00:00,  3.60it/s]\n"
          ]
        },
        {
          "output_type": "stream",
          "name": "stdout",
          "text": [
            "Val Loss: 0.00065\n",
            "Epoch 5 of 10\n"
          ]
        },
        {
          "output_type": "stream",
          "name": "stderr",
          "text": [
            "100%|██████████| 131/131 [00:40<00:00,  3.24it/s]\n"
          ]
        },
        {
          "output_type": "stream",
          "name": "stdout",
          "text": [
            "Training Loss: 0.00057\n"
          ]
        },
        {
          "output_type": "stream",
          "name": "stderr",
          "text": [
            "100%|██████████| 131/131 [00:36<00:00,  3.55it/s]\n"
          ]
        },
        {
          "output_type": "stream",
          "name": "stdout",
          "text": [
            "Val Loss: 0.00053\n",
            "Epoch 6 of 10\n"
          ]
        },
        {
          "output_type": "stream",
          "name": "stderr",
          "text": [
            "100%|██████████| 131/131 [00:40<00:00,  3.22it/s]\n"
          ]
        },
        {
          "output_type": "stream",
          "name": "stdout",
          "text": [
            "Training Loss: 0.00084\n"
          ]
        },
        {
          "output_type": "stream",
          "name": "stderr",
          "text": [
            "100%|██████████| 131/131 [00:36<00:00,  3.56it/s]\n"
          ]
        },
        {
          "output_type": "stream",
          "name": "stdout",
          "text": [
            "Val Loss: 0.00060\n",
            "Epoch 7 of 10\n"
          ]
        },
        {
          "output_type": "stream",
          "name": "stderr",
          "text": [
            "100%|██████████| 131/131 [00:40<00:00,  3.24it/s]\n"
          ]
        },
        {
          "output_type": "stream",
          "name": "stdout",
          "text": [
            "Training Loss: 0.00057\n"
          ]
        },
        {
          "output_type": "stream",
          "name": "stderr",
          "text": [
            "100%|██████████| 131/131 [00:35<00:00,  3.65it/s]\n"
          ]
        },
        {
          "output_type": "stream",
          "name": "stdout",
          "text": [
            "Val Loss: 0.00049\n",
            "Epoch 8 of 10\n"
          ]
        },
        {
          "output_type": "stream",
          "name": "stderr",
          "text": [
            "100%|██████████| 131/131 [00:39<00:00,  3.34it/s]\n"
          ]
        },
        {
          "output_type": "stream",
          "name": "stdout",
          "text": [
            "Training Loss: 0.00049\n"
          ]
        },
        {
          "output_type": "stream",
          "name": "stderr",
          "text": [
            "100%|██████████| 131/131 [00:35<00:00,  3.73it/s]\n"
          ]
        },
        {
          "output_type": "stream",
          "name": "stdout",
          "text": [
            "Val Loss: 0.00048\n",
            "Epoch 9 of 10\n"
          ]
        },
        {
          "output_type": "stream",
          "name": "stderr",
          "text": [
            "100%|██████████| 131/131 [00:38<00:00,  3.38it/s]\n"
          ]
        },
        {
          "output_type": "stream",
          "name": "stdout",
          "text": [
            "Training Loss: 0.00050\n"
          ]
        },
        {
          "output_type": "stream",
          "name": "stderr",
          "text": [
            "100%|██████████| 131/131 [00:35<00:00,  3.71it/s]\n"
          ]
        },
        {
          "output_type": "stream",
          "name": "stdout",
          "text": [
            "Val Loss: 0.00040\n",
            "Epoch 10 of 10\n"
          ]
        },
        {
          "output_type": "stream",
          "name": "stderr",
          "text": [
            "100%|██████████| 131/131 [00:38<00:00,  3.40it/s]\n"
          ]
        },
        {
          "output_type": "stream",
          "name": "stdout",
          "text": [
            "Training Loss: 0.00048\n"
          ]
        },
        {
          "output_type": "stream",
          "name": "stderr",
          "text": [
            "100%|██████████| 131/131 [00:35<00:00,  3.69it/s]"
          ]
        },
        {
          "output_type": "stream",
          "name": "stdout",
          "text": [
            "Val Loss: 0.00043\n",
            "Took 12.631 minutes to train\n"
          ]
        },
        {
          "output_type": "stream",
          "name": "stderr",
          "text": [
            "\n"
          ]
        }
      ]
    },
    {
      "cell_type": "code",
      "source": [
        "ntl = np.array(train_loss)\n",
        "ntl[3]"
      ],
      "metadata": {
        "colab": {
          "base_uri": "https://localhost:8080/"
        },
        "id": "NbW3glBkqCGw",
        "outputId": "2703e664-e707-4f5e-a387-2b16535974f0"
      },
      "execution_count": null,
      "outputs": [
        {
          "output_type": "stream",
          "name": "stderr",
          "text": [
            "/usr/local/lib/python3.7/dist-packages/ipykernel_launcher.py:1: VisibleDeprecationWarning: Creating an ndarray from ragged nested sequences (which is a list-or-tuple of lists-or-tuples-or ndarrays with different lengths or shapes) is deprecated. If you meant to do this, you must specify 'dtype=object' when creating the ndarray.\n",
            "  \"\"\"Entry point for launching an IPython kernel.\n"
          ]
        },
        {
          "output_type": "execute_result",
          "data": {
            "text/plain": [
              "array([0.0010840837865488475,\n",
              "       list([0.004993738140910864, 0.0014401383232325315, 0.0032913079485297203, 0.0013579499209299684, 0.0022926856763660908, 0.0021149655804038048, 0.0022889613173902035, 0.0010845179203897715, 0.0020147589966654778, 0.0018011436332017183, 0.0021769104059785604, 0.0016681364504620433, 0.002174459397792816, 0.0031669405288994312, 0.0015653815353289247, 0.002050207694992423, 0.0014279545284807682, 0.0030476204119622707, 0.0016175138298422098, 0.0014889017911627889, 0.0028190987650305033, 0.0016079242341220379, 0.0011007350403815508, 0.0018317208159714937, 0.0012651474680751562, 0.0017705864738672972, 0.001547446590848267, 0.0016220841789618134, 0.0018339157104492188, 0.0018340770620852709, 0.0014425243716686964, 0.0036503502633422613, 0.0011242638574913144, 0.0023946736473590136, 0.0034234304912388325, 0.0011599586578086019, 0.0017747491365298629, 0.0015004343586042523, 0.0010820417664945126, 0.0014546029269695282, 0.0013380724703893065, 0.0012058686697855592, 0.0013187546283006668, 0.0025914600118994713, 0.0018225907115265727, 0.0019267236348241568, 0.0019828667864203453, 0.001773541676811874, 0.0026925259735435247, 0.003265778999775648, 0.0025717015378177166, 0.0033959634602069855, 0.0007899170159362257, 0.0010999004589393735, 0.0016155666671693325, 0.0017014193581417203, 0.001330742728896439, 0.0013767133932560682, 0.0015473528765141964, 0.001661617192439735, 0.002511204220354557, 0.00122521270532161, 0.0013087986735627055, 0.0021701182704418898, 0.0010876967571675777, 0.0010129420552402735, 0.0018373402999714017, 0.0014060403918847442, 0.0020399619825184345, 0.001831456320360303, 0.0016184146516025066, 0.0021471399813890457, 0.0012908527860417962, 0.0024063983000814915, 0.0017019205261021852, 0.0015301870880648494, 0.0014919802779331803, 0.002152720233425498, 0.0025196480564773083, 0.0030185270588845015, 0.0022193738259375095, 0.0020495380740612745, 0.002651368035003543, 0.0014659991720691323, 0.003001250559464097, 0.0017214949475601315, 0.003048732876777649, 0.0013807256473228335, 0.0024509865324944258, 0.003420416498556733, 0.002678541000932455, 0.0031280219554901123, 0.0008577517000958323, 0.0014244940830394626, 0.0022333816159516573, 0.004201946780085564, 0.002844146452844143, 0.0016124018002301455, 0.004035623278468847, 0.0025966065004467964, 0.0041329823434352875, 0.006048088427633047, 0.0015657504554837942, 0.0015781321562826633, 0.002180718816816807, 0.0018278779461979866, 0.0014811194268986583, 0.0013129743747413158, 0.007045939099043608, 0.0018701705848798156, 0.0015043671010062099, 0.0023525203578174114, 0.0014390719588845968, 0.002473505912348628, 0.0020856084302067757, 0.003316923975944519, 0.0019570733420550823, 0.0024016527459025383, 0.001966329524293542, 0.0020034911576658487, 0.0017841740045696497, 0.0041917008347809315, 0.0023992876522243023, 0.0027583930641412735, 0.0017273237463086843, 0.00325816054828465, 0.0029828688129782677, 0.003350545186549425, 0.0036848820745944977, 0.0025013876147568226, 0.0032025303225964308])],\n",
              "      dtype=object)"
            ]
          },
          "metadata": {},
          "execution_count": 72
        }
      ]
    },
    {
      "cell_type": "code",
      "source": [
        "plt.figure(figsize=(10, 7))\n",
        "plt.plot(train_loss, color='orange', label='train loss')\n",
        "plt.plot(val_loss, color='red', label='validation loss')\n",
        "plt.xlabel('Epochs')\n",
        "plt.ylabel('Loss')\n",
        "plt.legend()\n",
        "plt.savefig('outputs/loss.png')\n",
        "plt.show()\n",
        "# save the model to disk\n",
        "print('Saving model...')\n",
        "torch.save(model.state_dict(), 'outputs/model.pth')"
      ],
      "metadata": {
        "colab": {
          "base_uri": "https://localhost:8080/",
          "height": 459
        },
        "id": "fDJknashjUd2",
        "outputId": "706c1e2d-75b9-4aee-8afc-b83ee6ec5792"
      },
      "execution_count": null,
      "outputs": [
        {
          "output_type": "display_data",
          "data": {
            "text/plain": [
              "<Figure size 720x504 with 1 Axes>"
            ],
            "image/png": "[encoded data removed]"
          },
          "metadata": {
            "needs_background": "light"
          }
        },
        {
          "output_type": "stream",
          "name": "stdout",
          "text": [
            "Saving model...\n"
          ]
        }
      ]
    },
    {
      "cell_type": "code",
      "source": [
        ""
      ],
      "metadata": {
        "id": "Vz-cRvHcp7EE"
      },
      "execution_count": null,
      "outputs": []
    }
  ]
}